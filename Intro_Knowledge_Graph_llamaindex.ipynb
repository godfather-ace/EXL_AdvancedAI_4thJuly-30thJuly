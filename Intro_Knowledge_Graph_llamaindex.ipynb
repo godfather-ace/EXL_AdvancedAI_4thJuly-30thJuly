{
 "cells": [
  {
   "cell_type": "code",
   "execution_count": null,
   "metadata": {},
   "outputs": [],
   "source": [
    "%pip install llama-index llama-index-agent-openai python-dotenv pyvis"
   ]
  },
  {
   "cell_type": "code",
   "execution_count": 12,
   "metadata": {},
   "outputs": [],
   "source": [
    "from llama_index.core import SimpleDirectoryReader, KnowledgeGraphIndex\n",
    "from llama_index.core.graph_stores import SimpleGraphStore\n",
    "from llama_index.llms.openai import OpenAI\n",
    "from llama_index.core import Settings\n",
    "from IPython.display import Markdown, display\n",
    "import os \n",
    "import dotenv"
   ]
  },
  {
   "cell_type": "code",
   "execution_count": 13,
   "metadata": {},
   "outputs": [
    {
     "data": {
      "text/plain": [
       "True"
      ]
     },
     "execution_count": 13,
     "metadata": {},
     "output_type": "execute_result"
    }
   ],
   "source": [
    "dotenv.load_dotenv()"
   ]
  },
  {
   "cell_type": "code",
   "execution_count": 14,
   "metadata": {},
   "outputs": [
    {
     "data": {
      "text/plain": [
       "[Document(id_='f968132d-e698-4c80-8e8a-474167a71bf1', embedding=None, metadata={'file_path': '/Users/sachintripathi/Documents/Py_files/EXL_Advanced AI Workshop/data/GOT_script.txt', 'file_name': 'GOT_script.txt', 'file_type': 'text/plain', 'file_size': 8705, 'creation_date': '2024-07-04', 'last_modified_date': '2024-07-04'}, excluded_embed_metadata_keys=['file_name', 'file_type', 'file_size', 'creation_date', 'last_modified_date', 'last_accessed_date'], excluded_llm_metadata_keys=['file_name', 'file_type', 'file_size', 'creation_date', 'last_modified_date', 'last_accessed_date'], relationships={}, text=\"{\\\\rtf1\\\\ansi\\\\ansicpg1252\\\\cocoartf2761\\n\\\\cocoatextscaling0\\\\cocoaplatform0{\\\\fonttbl\\\\f0\\\\fswiss\\\\fcharset0 Helvetica-Oblique;\\\\f1\\\\fswiss\\\\fcharset0 Helvetica;}\\n{\\\\colortbl;\\\\red255\\\\green255\\\\blue255;\\\\red31\\\\green33\\\\blue35;\\\\red255\\\\green255\\\\blue255;}\\n{\\\\*\\\\expandedcolortbl;;\\\\cssrgb\\\\c16078\\\\c17255\\\\c18039;\\\\cssrgb\\\\c100000\\\\c100000\\\\c100000;}\\n\\\\paperw11900\\\\paperh16840\\\\margl1440\\\\margr1440\\\\vieww11520\\\\viewh8400\\\\viewkind0\\n\\\\deftab720\\n\\\\pard\\\\pardeftab720\\\\sa480\\\\partightenfactor0\\n\\n\\\\f0\\\\i\\\\fs32 \\\\cf2 \\\\expnd0\\\\expndtw0\\\\kerning0\\n\\\\outl0\\\\strokewidth0 \\\\strokec2 A Game of Thrones\\n\\\\f1\\\\i0 \\\\'a0takes place over the course of one year on or near the fictional continent of Westeros. The story begins when King Robert visits the northern castle Winterfell to ask Ned Stark to be his right-hand assistant, or Hand of the King. The previous Hand, Jon Arryn, died under suspicious circumstances. Robert comes with his queen, Cersei Lannister, and his retinue, which includes a number of Lannisters. Just after the royal party arrives, Ned\\\\'92s wife, Catelyn, receives a message claiming that the Lannister family was responsible for the death of the former Hand. She tells Ned, who accepts the position as Hand in order to protect Robert from the Lannisters. Ned\\\\'92s son Bran then discovers Cersei Lannister and her brother Jaime Lannister having sex, and Jaime pushes Bran from a window to silence him. Everyone thinks Bran simply fell while climbing around the castle.\\\\cb3 \\\\\\n\\\\pard\\\\pardeftab720\\\\sa480\\\\partightenfactor0\\n\\\\cf2 \\\\cb1 While Bran is still unconscious, Ned leaves Winterfell and rides south with Robert. The same day, Ned\\\\'92s bastard son, Jon, leaves to serve at the Wall, a massive structure that protects Westeros from the wilderness of the far North. The group of men sworn to defend the Wall, the Night\\\\'92s Watch, have been receiving reports of strange creatures and have been losing men with increasing frequency. Tyrion Lannister, a little person who is brother to Cersei and Jaime, travels with Jon to the Wall to see the massive structure. Meanwhile, on a continent east of Westeros, Daenerys Targaryen marries the warlord Khal Drogo, one of the leaders of the Dothraki people. Daenerys and her brother Viserys are the last surviving members of the family Robert defeated to become king, the Targaryens. They are an old family said to be descended from dragons, and Viserys thinks with Khal Drogo\\\\'92s army he can retake the throne. A knight named Ser Jorah Mormont, exiled by Ned Stark, pledges he will help. Daenerys receives three dragon eggs as a wedding gift and becomes immediately fascinated by them.\\\\\\nOn the trip south to the capital, called King\\\\'92s Landing, Robert\\\\'a0and Cersei\\\\'92s son, Joffrey, and Ned\\\\'92s daughter Sansa, who everyone presumes will be married one day, go for a walk. When Joffrey sees Arya, Ned\\\\'92s other daughter and sister to Sansa, practicing her swordfighting with a boy, he decides to show them he\\\\'92s a better fighter. As pets, all of the Stark children have direwolf pups, a wolf breed larger than normal wolves that also happens to be the symbol of the Stark house, and Arya\\\\'92s wolf injures Joffrey defending her. Though Sansa knows Joffrey instigated the fight, she will not tell on Joffrey because she\\\\'92s in love with him. As punishment, Cersei wants Arya\\\\'92s wolf killed, but since it ran away after hurting Joffrey, Cersei demands that Ned kill Sansa\\\\'92s wolf instead. Meanwhile, an assassin tries to kill the unconscious Bran and fails. Ned finally reaches King\\\\'92s Landing to find that Catelyn has sailed to the city in secret to discover the truth about the assassin. She has the dagger the assassin used, and after examining it, Catelyn\\\\'92s childhood friend Littlefinger recognizes it as belonging to Tyrion Lannister. Ned tells Catelyn he will try to determine who killed the former Hand, Jon Arryn, and who tried to kill Bran. Bran finally wakes from his coma, but he doesn\\\\'92t remember how he fell. Tyrion visits him on his way south from the Wall to deliver a greeting from Jon. Tyrion continues south as Catelyn starts back north, and when their paths cross Catelyn has him seized for trying to kill Bran.\\\\\\nIn King\\\\'92s Landing, Ned slowly begins to unravel the mystery of why the previous Hand was killed. He knows it has to do with something the Hand learned about King Robert\\\\'92s children. Through a spy, Robert learns that Daenerys Targaryen is pregnant. He wants to assassinate her because he fears she and her son will one day challenge Robert\\\\'92s right to the throne. Disgusted with Robert\\\\'92s plan, Ned resigns as Hand. That night, Jaime and his men confront Ned about Tyrion\\\\'92s capture. Jaime kills Ned\\\\'92s men and Ned breaks his leg while fighting. The following day, Robert reinstates Ned as Hand. While Robert is gone hunting, Ned orders the execution of a rogue knight loyal to the Lannister family who has been pillaging villages. Further north, Catelyn takes Tyrion to her sister Lysa Arryn\\\\'92s castle, the Eyrie, which is in a mountainous area called The Vale. Lysa accuses Tyrion of arranging the murder of both Jon Arryn and Bran. Tyrion denies the accusations and demands a trial by combat. A knight fights on Lysa\\\\'92s behalf, and a mercenary fights on Tyrion\\\\'92s behalf. Tyrion\\\\'92s mercenary wins. While Tyrion rides from the Eyrie, a group of mountain clansmen try to kill him, but he promises to help them take The Vale and convinces them to join him.\\\\\\nIn the east, as Khal Drogo and his Dothraki followers head back to Vaes Dothrak, their capital, Viserys becomes increasingly angry that Drogo has not provided him with an army with which to wage war on Westeros. During a feast he attacks Daenerys in a rage, and Khal Drogo has Viserys killed by dumping molten gold on his head. In King\\\\'92s Landing, Ned has figured out why the Hand was killed: he had discovered that Joffrey was not really Robert\\\\'92s child but was actually the product of Cersei\\\\'92s sexual relationship with her brother, Jaime. Robert doesn\\\\'92t know the truth. Robert is mortally wounded in a hunt, and before he dies, he names Ned the Protector of the Realm, essentially an interim king, until Joffrey comes of age. Ned does not tell Robert that he knows Joffrey is not the true heir, since he is the son of Cersei and Jaime. Ned asks Littlefinger\\\\'92s help to install the true heir, Robert\\\\'92s brother Stannis, as the king, and Littlefinger agrees. But when Ned confronts the Lannisters, saying that Joffrey is not the true heir and expecting Littlefinger\\\\'92s support, Littlefinger betrays him, and Cersei imprisons Ned for treason. Meanwhile, north of the Wall, Jon and other men have discovered two strange dead bodies. They bring the bodies back for examination, and late at night, one of the bodies comes to life and tries to kill Jon\\\\'92s commander. Jon and his direwolf fight off the undead body, and Jon kills the creature with fire.\\\\\\nAfter Ned\\\\'92s capture, Arya escapes the castle in King\\\\'92s Landing and Cersei holds Sansa hostage (she says she is holding Sansa for her own protection). Tywin Lannister, father to Tyrion, Cersei, and Jaime, wages war with Catelyn and her son, Robb Stark. Shrewdly outmaneuvering Tywin, Robb manages to defeat a portion of the Lannister army and capture Jaime. In King\\\\'92s Landing, Joffrey, who is considered Robert\\\\'92s heir, is crowned King. In the hopes that he can prevent his daughters being harmed, Ned confesses publicly to treason, and Joffrey has him executed while Sansa watches. Arya is in the crowd, though nobody knows it.\\\\\\nLearning of his father\\\\'92s death and his brother\\\\'92s march to war, Jon tries to desert the Wall.\\\\'a0Jon\\\\'92s friends convince him that he must stay and defend the Wall as he vowed. In the east, Drogo suffers a wound while raiding a village. Daenerys has one of the village women treat him, but he becomes very sick. When he is about to die, Daenerys asks the woman to heal him, but she says only bloodmagic will save him and it will require a death in exchange for his life. Despite the protests of the Dothraki people, Daenerys has the woman do it. Shortly thereafter Daenerys goes into labor. When she wakes many days later, her child is dead and Drogo is alive but brain dead. His followers have all left, leaving behind only a few warriors, the sick and old, and Ser Jorah Mormont, who has become one of Daenerys\\\\'92s most trusted advisors. Daenerys sets a funeral pyre to burn Drogo and the woman, who tricked her and essentially killed her husband and child. Daenerys also places the three dragon eggs into the pyre. As the fire burns, Daenerys walks into it, and when finally it clears, Mormont and the Dothrakis find her with three newborn dragons at her breast.}\", mimetype='text/plain', start_char_idx=None, end_char_idx=None, text_template='{metadata_str}\\n\\n{content}', metadata_template='{key}: {value}', metadata_seperator='\\n')]"
      ]
     },
     "execution_count": 14,
     "metadata": {},
     "output_type": "execute_result"
    }
   ],
   "source": [
    "documents = SimpleDirectoryReader(\"data\").load_data()\n",
    "documents"
   ]
  },
  {
   "cell_type": "code",
   "execution_count": 15,
   "metadata": {},
   "outputs": [],
   "source": [
    "llm = OpenAI(temperature = 0.2, model = \"gpt-3.5-turbo\")\n",
    "Settings.llm = llm\n",
    "Settings.chunk_size = 256"
   ]
  },
  {
   "cell_type": "code",
   "execution_count": 17,
   "metadata": {},
   "outputs": [],
   "source": [
    "from llama_index.core import StorageContext\n",
    "\n",
    "graph_store = SimpleGraphStore()\n",
    "storage_context = StorageContext.from_defaults(graph_store = graph_store)\n",
    "\n",
    "index = KnowledgeGraphIndex.from_documents(\n",
    "    documents, \n",
    "    max_triplets_per_chunk = 3, \n",
    "    storage_context = storage_context\n",
    ")"
   ]
  },
  {
   "cell_type": "code",
   "execution_count": 18,
   "metadata": {},
   "outputs": [
    {
     "data": {
      "text/markdown": [
       "<b>Jon Snow is a character who is Ned Stark's bastard son. He leaves to serve at the Wall, a massive structure that protects Westeros from the wilderness of the far North.</b>"
      ],
      "text/plain": [
       "<IPython.core.display.Markdown object>"
      ]
     },
     "metadata": {},
     "output_type": "display_data"
    }
   ],
   "source": [
    "query_engine = index.as_query_engine()\n",
    "response = query_engine.query(\"Who is Jon Snow\")\n",
    "display(Markdown(f\"<b>{response}</b>\"))"
   ]
  },
  {
   "cell_type": "code",
   "execution_count": 19,
   "metadata": {},
   "outputs": [
    {
     "name": "stdout",
     "output_type": "stream",
     "text": [
      "got_graph.html\n"
     ]
    },
    {
     "data": {
      "text/html": [
       "\n",
       "        <iframe\n",
       "            width=\"100%\"\n",
       "            height=\"600px\"\n",
       "            src=\"got_graph.html\"\n",
       "            frameborder=\"0\"\n",
       "            allowfullscreen\n",
       "            \n",
       "        ></iframe>\n",
       "        "
      ],
      "text/plain": [
       "<IPython.lib.display.IFrame at 0x148277920>"
      ]
     },
     "execution_count": 19,
     "metadata": {},
     "output_type": "execute_result"
    }
   ],
   "source": [
    "from pyvis.network import Network\n",
    "\n",
    "g = index.get_networkx_graph()\n",
    "net = Network(notebook = True, cdn_resources = \"in_line\", directed = True)\n",
    "net.from_nx(g)\n",
    "net.show(\"got_graph.html\")"
   ]
  },
  {
   "cell_type": "code",
   "execution_count": null,
   "metadata": {},
   "outputs": [],
   "source": []
  }
 ],
 "metadata": {
  "kernelspec": {
   "display_name": "practo",
   "language": "python",
   "name": "python3"
  },
  "language_info": {
   "codemirror_mode": {
    "name": "ipython",
    "version": 3
   },
   "file_extension": ".py",
   "mimetype": "text/x-python",
   "name": "python",
   "nbconvert_exporter": "python",
   "pygments_lexer": "ipython3",
   "version": "3.12.4"
  }
 },
 "nbformat": 4,
 "nbformat_minor": 2
}
