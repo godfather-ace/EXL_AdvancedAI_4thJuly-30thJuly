{
  "cells": [
    {
      "cell_type": "markdown",
      "metadata": {
        "id": "BZaXyKJJL0Uv"
      },
      "source": [
        "**Installing library**"
      ]
    },
    {
      "cell_type": "code",
      "execution_count": null,
      "metadata": {
        "colab": {
          "base_uri": "https://localhost:8080/"
        },
        "id": "AhbY1lioljPL",
        "outputId": "04e8245b-e7c8-4464-b48a-ed6c530b805e"
      },
      "outputs": [],
      "source": [
        "%pip install pip --upgrade --user -q --no-warn-script-location\n",
        "%pip install llama-index html2text llama-index-readers-web"
      ]
    },
    {
      "cell_type": "markdown",
      "metadata": {
        "id": "3ovbSSynMMQe"
      },
      "source": [
        "**Importing libraries**"
      ]
    },
    {
      "cell_type": "code",
      "execution_count": 2,
      "metadata": {
        "id": "v5hJUP1TL9wJ"
      },
      "outputs": [],
      "source": [
        "import os\n",
        "from llama_index.core import VectorStoreIndex #VectorStoreIndex is used to create a searchable index from documents\n",
        "from llama_index.readers.web import SimpleWebPageReader #SimpleWebPageReader is used to read web pages.\n",
        "import dotenv"
      ]
    },
    {
      "cell_type": "markdown",
      "metadata": {
        "id": "4gNlS8K5MNEz"
      },
      "source": [
        "**Passing the OPENAI API key**\n"
      ]
    },
    {
      "cell_type": "code",
      "execution_count": 3,
      "metadata": {
        "colab": {
          "base_uri": "https://localhost:8080/",
          "height": 280
        },
        "id": "sT-cnas0MNh9",
        "outputId": "e4a1257f-10a9-4a82-95e8-60e7b7daa76f"
      },
      "outputs": [],
      "source": [
        "dotenv.load_dotenv()\n",
        "# OpenAI API Key\n",
        "os.environ[\"OPENAI_API_KEY\"] = os.environ[\"OPENAI_API_KEY\"]"
      ]
    },
    {
      "cell_type": "markdown",
      "metadata": {
        "id": "cwI2KBbQMPkL"
      },
      "source": [
        "**Loading the URL data into documents**"
      ]
    },
    {
      "cell_type": "code",
      "execution_count": 4,
      "metadata": {
        "id": "OCoozerEMP39"
      },
      "outputs": [],
      "source": [
        "# Passing a URL which we want to load to our vector store:\n",
        "url = \"https://www.exlservice.com\""
      ]
    },
    {
      "cell_type": "code",
      "execution_count": 6,
      "metadata": {
        "id": "VYIAoxOFMQqO"
      },
      "outputs": [],
      "source": [
        "# Using SimpleWebPage reader to load the URL content\n",
        "# html_to_text=True argument will convert the HTML content on the URL into plain text.\n",
        "d1 = SimpleWebPageReader(html_to_text=True).load_data([url])"
      ]
    },
    {
      "cell_type": "markdown",
      "metadata": {
        "id": "ovjXg8fyMUtm"
      },
      "source": [
        "**Creating a vector data store using the data document**"
      ]
    },
    {
      "cell_type": "code",
      "execution_count": 7,
      "metadata": {
        "id": "IhuNuRPzMVKP"
      },
      "outputs": [],
      "source": [
        "# Create a searchable index from the loaded document named d1 using VectorStoreIndex\n",
        "index = VectorStoreIndex.from_documents(d1)"
      ]
    },
    {
      "cell_type": "markdown",
      "metadata": {
        "id": "83Xta1PNMW5-"
      },
      "source": [
        "**Using Query Engine and generating response based on the given query**"
      ]
    },
    {
      "cell_type": "code",
      "execution_count": 8,
      "metadata": {
        "colab": {
          "base_uri": "https://localhost:8080/"
        },
        "id": "jCFCYzgIMXR6",
        "outputId": "2d368458-f27e-4865-c195-d671de723e21"
      },
      "outputs": [
        {
          "name": "stdout",
          "output_type": "stream",
          "text": [
            "Everest Group Analytics & AI Services Specialists PEAK Matrix® Assessment\n"
          ]
        }
      ],
      "source": [
        "# Creating query engine:\n",
        "query_engine = index.as_query_engine()\n",
        "\n",
        "# Running a query against the loaded URL data\n",
        "r1 = query_engine.query(\"In 2024, EXL was named as a leader in which matrix?\")\n",
        "print(r1)"
      ]
    },
    {
      "cell_type": "markdown",
      "metadata": {
        "id": "ZTsy_AZTMbfN"
      },
      "source": [
        "Running a second query"
      ]
    },
    {
      "cell_type": "code",
      "execution_count": 9,
      "metadata": {
        "colab": {
          "base_uri": "https://localhost:8080/"
        },
        "id": "gHiJl5QjMcw-",
        "outputId": "556ccc62-2476-46dd-f316-1f33b26fbda1"
      },
      "outputs": [
        {
          "name": "stdout",
          "output_type": "stream",
          "text": [
            "EXL specializes in the domains of insurance, manufacturing & logistics, retail & consumer products, technology, media & telecom, and utilities.\n"
          ]
        }
      ],
      "source": [
        "r2 = query_engine.query(\"What are the different domains in which EXL specialises?\")\n",
        "print(r2)"
      ]
    },
    {
      "cell_type": "code",
      "execution_count": null,
      "metadata": {
        "id": "0LKnLVi7PEhj"
      },
      "outputs": [],
      "source": []
    }
  ],
  "metadata": {
    "colab": {
      "provenance": []
    },
    "kernelspec": {
      "display_name": "Python 3",
      "name": "python3"
    },
    "language_info": {
      "codemirror_mode": {
        "name": "ipython",
        "version": 3
      },
      "file_extension": ".py",
      "mimetype": "text/x-python",
      "name": "python",
      "nbconvert_exporter": "python",
      "pygments_lexer": "ipython3",
      "version": "3.11.8"
    }
  },
  "nbformat": 4,
  "nbformat_minor": 0
}
