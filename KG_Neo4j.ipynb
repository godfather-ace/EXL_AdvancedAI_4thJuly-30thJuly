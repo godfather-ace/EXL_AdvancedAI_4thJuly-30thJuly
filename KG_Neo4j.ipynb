{
  "cells": [
    {
      "cell_type": "markdown",
      "metadata": {
        "id": "fkMl-Qjehel5"
      },
      "source": [
        "## Library Installation"
      ]
    },
    {
      "cell_type": "code",
      "execution_count": null,
      "metadata": {
        "id": "oivm21rp_vM0"
      },
      "outputs": [],
      "source": [
        "!pip install openai langchain langchain_openai langchain-experimental langchain-community neo4j unstructured"
      ]
    },
    {
      "cell_type": "markdown",
      "metadata": {
        "id": "YdJZAXdXhhwg"
      },
      "source": [
        "## Imports"
      ]
    },
    {
      "cell_type": "code",
      "execution_count": null,
      "metadata": {
        "id": "zJxpg4VZAGgz"
      },
      "outputs": [],
      "source": [
        "from langchain_openai import ChatOpenAI\n",
        "from langchain_community.graphs import Neo4jGraph\n",
        "from langchain.text_splitter import CharacterTextSplitter\n",
        "from langchain_experimental.graph_transformers import LLMGraphTransformer\n",
        "from langchain_core.documents import Document\n",
        "from langchain_community.document_loaders import DirectoryLoader\n",
        "from google.colab import userdata\n",
        "import os"
      ]
    },
    {
      "cell_type": "markdown",
      "metadata": {
        "id": "sV2UdZGqtKOn"
      },
      "source": [
        "## Neo4J Access Parameters"
      ]
    },
    {
      "cell_type": "code",
      "execution_count": null,
      "metadata": {
        "id": "WsqVcyI0A6Rc"
      },
      "outputs": [],
      "source": [
        "graph = Neo4jGraph(\n",
        "    url = \"neo4j+s://bfe69ea7.*********\",\n",
        "    username = \"neo4j\",\n",
        "    password = \"HOrQGwpF*****************************\"\n",
        ")"
      ]
    },
    {
      "cell_type": "markdown",
      "metadata": {
        "id": "d1JdyRuRtMpS"
      },
      "source": [
        "## OpenAI Access API and Chat Parameters"
      ]
    },
    {
      "cell_type": "code",
      "execution_count": null,
      "metadata": {
        "id": "17UyBoChBQlw"
      },
      "outputs": [],
      "source": [
        "os.environ[\"OPENAI_API_KEY\"] = userdata.get(\"OPENAI_APIKEY\")"
      ]
    },
    {
      "cell_type": "code",
      "execution_count": null,
      "metadata": {
        "id": "NtpSkkKABzqd"
      },
      "outputs": [],
      "source": [
        "llm = ChatOpenAI(temperature = 0)\n",
        "llm_transf = LLMGraphTransformer(llm = llm)"
      ]
    },
    {
      "cell_type": "code",
      "execution_count": null,
      "metadata": {
        "id": "DfP6m8PuBmWH"
      },
      "outputs": [],
      "source": [
        "loader = DirectoryLoader('/content/Textdata')"
      ]
    },
    {
      "cell_type": "code",
      "execution_count": null,
      "metadata": {
        "id": "RTw_S7zmZGHv"
      },
      "outputs": [],
      "source": [
        "text_splitter = CharacterTextSplitter.from_tiktoken_encoder(\n",
        "    chunk_size = 1000, chunk_overlap = 20\n",
        ")"
      ]
    },
    {
      "cell_type": "code",
      "execution_count": null,
      "metadata": {
        "colab": {
          "base_uri": "https://localhost:8080/"
        },
        "id": "Oj3ZaHyIZGFY",
        "outputId": "daef3af5-6166-45ff-ac97-e7dc4fcf3559"
      },
      "outputs": [
        {
          "name": "stderr",
          "output_type": "stream",
          "text": [
            "[nltk_data] Downloading package punkt to /root/nltk_data...\n",
            "[nltk_data]   Unzipping tokenizers/punkt.zip.\n",
            "[nltk_data] Downloading package averaged_perceptron_tagger to\n",
            "[nltk_data]     /root/nltk_data...\n",
            "[nltk_data]   Unzipping taggers/averaged_perceptron_tagger.zip.\n"
          ]
        }
      ],
      "source": [
        "documents = text_splitter.split_documents(loader.load())\n",
        "for d in documents:\n",
        "  del d.metadata['source']"
      ]
    },
    {
      "cell_type": "code",
      "execution_count": null,
      "metadata": {
        "colab": {
          "base_uri": "https://localhost:8080/"
        },
        "id": "WFQo_u2IfcyY",
        "outputId": "acf96b20-dd8f-47f8-febc-2f643cdb8328"
      },
      "outputs": [
        {
          "name": "stdout",
          "output_type": "stream",
          "text": [
            "Nodes:[]\n",
            "Relationships:[]\n"
          ]
        }
      ],
      "source": [
        "graph_documents = llm_transf.convert_to_graph_documents(documents)\n",
        "print(f\"Nodes:{graph_documents[0].nodes}\")\n",
        "print(f\"Relationships:{graph_documents[0].relationships}\")"
      ]
    },
    {
      "cell_type": "code",
      "execution_count": null,
      "metadata": {
        "id": "sS2s0O6nfcro"
      },
      "outputs": [],
      "source": [
        "graph.add_graph_documents(graph_documents)"
      ]
    },
    {
      "cell_type": "code",
      "execution_count": null,
      "metadata": {
        "colab": {
          "base_uri": "https://localhost:8080/"
        },
        "id": "SU2kOVccV3AR",
        "outputId": "5da1d027-6801-4291-ab41-3c8d03ddc2b2"
      },
      "outputs": [
        {
          "data": {
            "text/plain": [
              "[{'n': {'id': 'Ned'}},\n",
              " {'n': {'id': 'Robert'}},\n",
              " {'n': {'id': 'Daenerys Targaryen'}},\n",
              " {'n': {'id': 'Jaime'}},\n",
              " {'n': {'id': 'Tyrion'}},\n",
              " {'n': {'id': 'Catelyn'}},\n",
              " {'n': {'id': 'Lysa Arryn'}},\n",
              " {'n': {'id': 'Viserys'}},\n",
              " {'n': {'id': 'Khal Drogo'}},\n",
              " {'n': {'id': 'Joffrey'}},\n",
              " {'n': {'id': 'Cersei'}},\n",
              " {'n': {'id': 'Jon'}},\n",
              " {'n': {'id': 'Stannis'}},\n",
              " {'n': {'id': 'Littlefinger'}},\n",
              " {'n': {'id': 'Tywin Lannister'}},\n",
              " {'n': {'id': 'Robb Stark'}},\n",
              " {'n': {'id': 'Arya'}},\n",
              " {'n': {'id': 'Sansa'}},\n",
              " {'n': {'id': 'Knight'}},\n",
              " {'n': {'id': 'Mercenary'}},\n",
              " {'n': {'id': 'Father'}},\n",
              " {'n': {'id': 'Brother'}},\n",
              " {'n': {'id': 'Friends'}},\n",
              " {'n': {'id': 'Drogo'}},\n",
              " {'n': {'id': 'Daenerys'}},\n",
              " {'n': {'id': 'Village Woman'}},\n",
              " {'n': {'id': 'Child'}},\n",
              " {'n': {'id': 'Ser Jorah Mormont'}},\n",
              " {'n': {'id': 'Warriors'}},\n",
              " {'n': {'id': 'Sick And Old'}}]"
            ]
          },
          "execution_count": 15,
          "metadata": {},
          "output_type": "execute_result"
        }
      ],
      "source": [
        "graph.query(\"\"\"\n",
        "MATCH (n:Person) RETURN n\n",
        "\"\"\")"
      ]
    },
    {
      "cell_type": "code",
      "execution_count": null,
      "metadata": {
        "colab": {
          "base_uri": "https://localhost:8080/",
          "height": 122
        },
        "id": "74sbHQogu8S8",
        "outputId": "f7f00c0d-3bb5-41e8-fbc7-4e4f36c35492"
      },
      "outputs": [
        {
          "data": {
            "application/vnd.google.colaboratory.intrinsic+json": {
              "type": "string"
            },
            "text/plain": [
              "'Node properties:\\nBook {id: STRING}\\nContinent {id: STRING}\\nPerson {id: STRING}\\nFamily {id: STRING}\\nCastle {id: STRING}\\nPosition {id: STRING}\\nGroup {id: STRING}\\nStructure {id: STRING}\\nPeople {id: STRING}\\nAnimal {id: STRING}\\nEvent {id: STRING}\\nDirection {id: STRING}\\nCreature {id: STRING}\\nObject {id: STRING}\\nInterest {id: STRING}\\nLocation {id: STRING}\\nActivity {id: STRING}\\nPlace {id: STRING}\\nAction {id: STRING}\\nRelationship properties:\\n\\nThe relationships:\\n(:Book)-[:SETTING]->(:Continent)\\n(:Person)-[:REQUEST_FOR_ASSISTANCE]->(:Person)\\n(:Person)-[:VISIT]->(:Castle)\\n(:Person)-[:VISIT]->(:Person)\\n(:Person)-[:VISIT]->(:Structure)\\n(:Person)-[:RELATIONSHIP]->(:Person)\\n(:Person)-[:ARRIVAL_WITH_QUEEN]->(:Person)\\n(:Person)-[:OFFER_FOR_POSITION]->(:Person)\\n(:Person)-[:DESTINATION]->(:Location)\\n(:Person)-[:PROMISE]->(:Event)\\n(:Person)-[:ACCEPTANCE]->(:Position)\\n(:Person)-[:DEPARTURE]->(:Castle)\\n(:Person)-[:JOURNEY_START]->(:Direction)\\n(:Person)-[:ARRIVAL]->(:Location)\\n(:Person)-[:DEATH]->(:Event)\\n(:Person)-[:DEATH_DETAILS]->(:Event)\\n(:Person)-[:INVESTIGATION_START]->(:Event)\\n(:Person)-[:POSSESSION]->(:Object)\\n(:Person)-[:ACCUSATION]->(:Family)\\n(:Person)-[:ACCUSATION]->(:Person)\\n(:Person)-[:ACCOMPANIES]->(:Person)\\n(:Person)-[:DISCOVERY_OF_RELATIONSHIP]->(:Person)\\n(:Person)-[:INCIDENT]->(:Event)\\n(:Person)-[:SERVICE]->(:Structure)\\n(:Person)-[:MARRIAGE]->(:Person)\\n(:Person)-[:FAMILY_RELATION]->(:Person)\\n(:Person)-[:FAMILY_BACKGROUND]->(:Family)\\n(:Person)-[:FAMILY_SYMBOL]->(:Creature)\\n(:Person)-[:GIFT]->(:Object)\\n(:Person)-[:REACTION]->(:Interest)\\n(:Person)-[:KILLING]->(:Person)\\n(:Person)-[:KILLING]->(:Creature)\\n(:Person)-[:PROTECTION]->(:Person)\\n(:Person)-[:ANGER]->(:Person)\\n(:Person)-[:ATTACK]->(:Person)\\n(:Person)-[:BACKGROUND]->(:Event)\\n(:Person)-[:COMMITMENT]->(:Event)\\n(:Person)-[:OBSERVATION]->(:Group)\\n(:Person)-[:PRACTICE]->(:Activity)\\n(:Person)-[:COMPANION]->(:Animal)\\n(:Person)-[:ESCAPE]->(:Place)\\n(:Person)-[:AFFECTION]->(:Person)\\n(:Person)-[:FUTURE_MARRIAGE]->(:Person)\\n(:Person)-[:CORONATION]->(:Position)\\n(:Person)-[:FAILED_ATTEMPT]->(:Event)\\n(:Person)-[:RECOGNITION]->(:Event)\\n(:Person)-[:BETRAYAL]->(:Person)\\n(:Person)-[:ORDER]->(:Event)\\n(:Person)-[:HOSTAGE]->(:Person)\\n(:Person)-[:IMPRISONMENT]->(:Person)\\n(:Person)-[:HOLDS_POSITION]->(:Position)\\n(:Person)-[:RELATION]->(:Person)\\n(:Person)-[:CONFRONTATION]->(:Person)\\n(:Person)-[:CONFRONTATION]->(:Group)\\n(:Person)-[:EXECUTION]->(:Person)\\n(:Person)-[:PUBLIC]->(:Action)\\n(:Person)-[:SACRIFICE]->(:Action)\\n(:Person)-[:HEIR]->(:Person)\\n(:Person)-[:SECRET]->(:Person)\\n(:Person)-[:SUPPORT]->(:Person)\\n(:Person)-[:REQUEST]->(:Person)\\n(:Person)-[:REINSTATEMENT]->(:Person)\\n(:Person)-[:NAMING]->(:Person)\\n(:Person)-[:INJURES]->(:Person)\\n(:Person)-[:VICTORY]->(:Person)\\n(:Person)-[:ALLIANCE]->(:Group)\\n(:Person)-[:MURDER]->(:Person)\\n(:Person)-[:DENIAL]->(:Person)\\n(:Person)-[:DEMAND]->(:Person)\\n(:Person)-[:TRIAL]->(:Person)\\n(:Person)-[:FAMILY_RELATIONSHIP]->(:Person)\\n(:Person)-[:DESERTEMENT]->(:Location)\\n(:Person)-[:DISCOVERY]->(:Object)\\n(:Person)-[:BRINGING]->(:Object)\\n(:Person)-[:FIGHT]->(:Creature)\\n(:Person)-[:WAR]->(:Person)\\n(:Person)-[:DEFEAT]->(:Group)\\n(:Person)-[:CAPTURE]->(:Person)\\n(:Person)-[:TREATMENT]->(:Person)\\n(:Person)-[:CONFLICT]->(:Group)\\n(:Person)-[:TRUSTED_ADVISOR]->(:Person)\\n(:Person)-[:ABANDONMENT]->(:Person)\\n(:Person)-[:PLACEMENT]->(:Object)\\n(:Person)-[:BIRTH]->(:Animal)\\n(:Group)-[:SITUATION_UPDATE]->(:Event)\\n(:Object)-[:ATTACK]->(:Person)'"
            ]
          },
          "execution_count": 16,
          "metadata": {},
          "output_type": "execute_result"
        }
      ],
      "source": [
        "graph.schema"
      ]
    },
    {
      "cell_type": "markdown",
      "metadata": {
        "id": "CBVFvCCqxd9h"
      },
      "source": [
        "## GraphCypherQAChain Usage"
      ]
    },
    {
      "cell_type": "code",
      "execution_count": null,
      "metadata": {
        "id": "tOGWCIh7wdTC"
      },
      "outputs": [],
      "source": [
        "from langchain.chains import GraphCypherQAChain\n",
        "llm = ChatOpenAI(temperature = 0)\n",
        "chain = GraphCypherQAChain.from_llm(\n",
        "    graph=graph, llm=llm, verbose=True\n",
        ")"
      ]
    },
    {
      "cell_type": "code",
      "execution_count": null,
      "metadata": {
        "colab": {
          "base_uri": "https://localhost:8080/"
        },
        "id": "f_fb3ZSTwsLx",
        "outputId": "ccc4bf55-0334-4caa-9bbb-e128bb3618fa"
      },
      "outputs": [
        {
          "name": "stdout",
          "output_type": "stream",
          "text": [
            "\n",
            "\n",
            "\u001b[1m> Entering new GraphCypherQAChain chain...\u001b[0m\n",
            "Generated Cypher:\n",
            "\u001b[32;1m\u001b[1;3mMATCH (p:Person)\n",
            "RETURN p.id;\u001b[0m\n",
            "Full Context:\n",
            "\u001b[32;1m\u001b[1;3m[{'p.id': 'Ned'}, {'p.id': 'Robert'}, {'p.id': 'Daenerys Targaryen'}, {'p.id': 'Jaime'}, {'p.id': 'Tyrion'}, {'p.id': 'Catelyn'}, {'p.id': 'Lysa Arryn'}, {'p.id': 'Viserys'}, {'p.id': 'Khal Drogo'}, {'p.id': 'Joffrey'}]\u001b[0m\n",
            "\n",
            "\u001b[1m> Finished chain.\u001b[0m\n"
          ]
        },
        {
          "data": {
            "text/plain": [
              "{'query': 'Who are the different persons?',\n",
              " 'result': 'Ned, Robert, Daenerys Targaryen, Jaime, Tyrion, Catelyn, Lysa Arryn, Viserys, Khal Drogo, Joffrey'}"
            ]
          },
          "execution_count": 21,
          "metadata": {},
          "output_type": "execute_result"
        }
      ],
      "source": [
        "chain.invoke(\"Who are the different persons?\")"
      ]
    },
    {
      "cell_type": "code",
      "execution_count": null,
      "metadata": {
        "id": "XEo2LRBBw45h"
      },
      "outputs": [],
      "source": []
    }
  ],
  "metadata": {
    "colab": {
      "provenance": []
    },
    "kernelspec": {
      "display_name": "Python 3",
      "name": "python3"
    },
    "language_info": {
      "name": "python"
    }
  },
  "nbformat": 4,
  "nbformat_minor": 0
}
